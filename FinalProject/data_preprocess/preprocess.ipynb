{
 "cells": [
  {
   "cell_type": "markdown",
   "metadata": {},
   "source": [
    "## 1. Code level"
   ]
  },
  {
   "cell_type": "markdown",
   "metadata": {},
   "source": [
    "\n",
    "  #### This part include "
   ]
  },
  {
   "cell_type": "code",
   "execution_count": 3,
   "metadata": {
    "pycharm": {
     "is_executing": true,
     "name": "#%%\n"
    }
   },
   "outputs": [
    {
     "name": "stdout",
     "output_type": "stream",
     "text": [
      "Looking in indexes: https://pypi.tuna.tsinghua.edu.cn/simple\n",
      "Collecting lizard\n",
      "  Downloading https://pypi.tuna.tsinghua.edu.cn/packages/b4/2c/d6f6a5507cfa685535731428ee3b32b4d7648a5b8c10b68b85de3cdbb649/lizard-1.17.3-py2.py3-none-any.whl (59kB)\n",
      "Installing collected packages: lizard\n",
      "Successfully installed lizard-1.17.3\n"
     ]
    }
   ],
   "source": [
    "!pip install lizard\n",
    "import lizard\n",
    "import pandas as pd"
   ]
  },
  {
   "cell_type": "code",
   "execution_count": 14,
   "metadata": {},
   "outputs": [],
   "source": [
    "def code_analyze(code_dir,store_dir):\n",
    "    result = pd.DataFrame(columns=['bug','nloc','CCN','function_numbers','token_count','parameter_count'])\n",
    "    for bug in bugs:\n",
    "        tmp = {}\n",
    "        code_path = code_dir + bug\n",
    "        code_analyst = lizard.analyze_file(code_path)\n",
    "        tmp['bug'] = bug\n",
    "        tmp['nloc'] = code_analyst.__dict__['nloc']\n",
    "        tmp['function_numbers'] = len(code_analyst.function_list)\n",
    "        tmp['token_count'] = code_analyst.__dict__['token_count']\n",
    "        tmp['CCN'] = 0\n",
    "        tmp['parameter_count']=0\n",
    "        for function in code_analyst.function_list:\n",
    "            tmp['CCN'] += function.__dict__['cyclomatic_complexity']\n",
    "            tmp['parameter_count'] += len(function.__dict__['parameters'])\n",
    "        result = code_analyze_result.append([tmp],ignore_index=True)\n",
    "    return result  "
   ]
  },
  {
   "cell_type": "code",
   "execution_count": 15,
   "metadata": {},
   "outputs": [],
   "source": [
    "bugs = pd.read_csv('../data/sample_commits@0.csv')['bug']\n",
    "code_dir = '../data/codes/'\n",
    "store_dir = '../data/sample_codes@0.csv'\n",
    "result = code_analyze(code_dir,store_dir)\n",
    "result.to_csv(store_dir,encoding='utf-8', index=False)  "
   ]
  },
  {
   "cell_type": "code",
   "execution_count": null,
   "metadata": {},
   "outputs": [],
   "source": [
    "from sklearn.preprocessing import MinMaxScaler\n",
    "MinMaxScaler().fit_transform(z)\n"
   ]
  },
  {
   "cell_type": "markdown",
   "metadata": {},
   "source": [
    "## 2. Commits level"
   ]
  },
  {
   "cell_type": "code",
   "execution_count": null,
   "metadata": {},
   "outputs": [],
   "source": [
    "import pandas as pd\n",
    "from sklearn.preprocessing import MinMaxScaler"
   ]
  },
  {
   "cell_type": "code",
   "execution_count": null,
   "metadata": {},
   "outputs": [],
   "source": []
  },
  {
   "cell_type": "markdown",
   "metadata": {},
   "source": [
    "\n",
    "## 3. Author level"
   ]
  }
 ],
 "metadata": {
  "kernelspec": {
   "display_name": "Python 3",
   "language": "python",
   "name": "python3"
  },
  "language_info": {
   "codemirror_mode": {
    "name": "ipython",
    "version": 3
   },
   "file_extension": ".py",
   "mimetype": "text/x-python",
   "name": "python",
   "nbconvert_exporter": "python",
   "pygments_lexer": "ipython3",
   "version": "3.7.4"
  },
  "pycharm": {
   "stem_cell": {
    "cell_type": "raw",
    "metadata": {
     "collapsed": false
    },
    "source": []
   }
  }
 },
 "nbformat": 4,
 "nbformat_minor": 1
}
